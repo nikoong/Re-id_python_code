{
 "cells": [
  {
   "cell_type": "code",
   "execution_count": 38,
   "metadata": {
    "collapsed": false
   },
   "outputs": [],
   "source": [
    "\n"
   ]
  },
  {
   "cell_type": "code",
   "execution_count": 15,
   "metadata": {
    "collapsed": false
   },
   "outputs": [
    {
     "name": "stdout",
     "output_type": "stream",
     "text": [
      "26580\n"
     ]
    }
   ],
   "source": [
    "import numpy as np\n",
    "cama_id = []\n",
    "cama_imgs_list = np.load(\"cama_imgs_list.npy\")\n",
    "for cama_img_file in cama_imgs_list:\n",
    "    \n",
    "    a = cama_img_file.split(\"/\",6) [6].split(\"_\",1)[0]\n",
    "    #print a\n",
    "    cama_id.append(a)\n",
    "np.save(\"gallery_id.npy\",cama_id)\n",
    "print np.size(cama_id)"
   ]
  },
  {
   "cell_type": "code",
   "execution_count": 18,
   "metadata": {
    "collapsed": false
   },
   "outputs": [
    {
     "name": "stdout",
     "output_type": "stream",
     "text": [
      "6644\n"
     ]
    }
   ],
   "source": [
    "import numpy as np\n",
    "camb_id = []\n",
    "camb_imgs_list = np.load(\"camb_imgs_list.npy\")\n",
    "for camb_img_file in camb_imgs_list:\n",
    "    \n",
    "    b = camb_img_file.split(\"/\",6) [6].split(\"_\",1)[0]\n",
    "    #print b\n",
    "    camb_id.append(b)\n",
    "np.save(\"probe_id.npy\",camb_id)\n",
    "print np.size(camb_id)"
   ]
  },
  {
   "cell_type": "code",
   "execution_count": null,
   "metadata": {
    "collapsed": true
   },
   "outputs": [],
   "source": []
  }
 ],
 "metadata": {
  "kernelspec": {
   "display_name": "Python 2",
   "language": "python",
   "name": "python2"
  },
  "language_info": {
   "codemirror_mode": {
    "name": "ipython",
    "version": 2
   },
   "file_extension": ".py",
   "mimetype": "text/x-python",
   "name": "python",
   "nbconvert_exporter": "python",
   "pygments_lexer": "ipython2",
   "version": "2.7.9"
  }
 },
 "nbformat": 4,
 "nbformat_minor": 0
}
