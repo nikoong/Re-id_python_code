{
 "cells": [
  {
   "cell_type": "code",
   "execution_count": 83,
   "metadata": {
    "collapsed": false
   },
   "outputs": [
    {
     "data": {
      "text/plain": [
       "<function close>"
      ]
     },
     "execution_count": 83,
     "metadata": {},
     "output_type": "execute_result"
    }
   ],
   "source": [
    "import shutil\n",
    "from PIL import Image\n",
    "\n",
    "\n",
    "a = 0\n",
    "lst = [0 for n in range(2605)]#here are 0 - 2604 id\n",
    "\n",
    "while 1:\n",
    "    line = txtfile.readline()\n",
    "    if not line:\n",
    "        break\n",
    "    \n",
    "    str1 =  \"/home/nikoong/Algorithm_test/dgd_person_reid/\"+line\n",
    "    dir_old = str1.split();#dir_old[0] like:/home/nikoong/Algorithm_test/dgd_person_reid/external/exp/datasets/cuhk03/cam_0/00691_00009.jpg\n",
    "    \n",
    "    \n",
    "    picformat = dir_old[0].split(\".\",1)\n",
    "    \n",
    "    #make new picture name using new id\n",
    "    \n",
    "    old_id = int(dir_old[1])#like:1219\n",
    "    \n",
    "    #set same id number\n",
    "    idnum = lst[old_id]\n",
    "    lst[old_id] = lst[old_id] +1\n",
    "    \n",
    "   \n",
    "        \n",
    "    #change id frome 9 to 000009\n",
    "    if old_id<=9:\n",
    "        new_id = \"0000\"+str(old_id)   \n",
    "    if 9<old_id<=99:\n",
    "        new_id = \"000\"+str(old_id) \n",
    "    if 99<old_id<=999:\n",
    "        new_id = \"00\"+str(old_id)\n",
    "    if 999<old_id<=9999:\n",
    "        new_id = \"0\"+str(old_id)\n",
    "        \n",
    "    #change id_number frome 9 to 000009    \n",
    "    if idnum<=9:\n",
    "        new_idnum = \"0000\"+str(idnum)   \n",
    "    if 9<idnum<=99:\n",
    "        new_idnum = \"000\"+str(idnum) \n",
    "    if 99<idnum<=999:\n",
    "        new_idnum = \"00\"+str(idnum)\n",
    "    if 999<idnum<=9999:\n",
    "        new_idnum = \"0\"+str(idnum)    \n",
    "        \n",
    "    \n",
    "    new_dir = \"/home/nikoong/Algorithm_test/New_dataset/\"+\"cam_1/\"+new_id+\"_\"+new_idnum+\".bmp\"\n",
    "    \n",
    "    pic = Image.open(dir_old[0])\n",
    "    \n",
    "\n",
    "    \n",
    "\n",
    "    #uncommemt to copy\n",
    "    #pic.save(new_dir)\n",
    "    #print new_dir\n",
    "    #shutil.copyfile( dir_old[0],new_dir)\n",
    "    \n",
    "    \n",
    "    \n"
   ]
  },
  {
   "cell_type": "code",
   "execution_count": 50,
   "metadata": {
    "collapsed": false
   },
   "outputs": [],
   "source": [
    "from PIL import Image\n",
    "\n",
    "a =\"/home/nikoong/Algorithm_test/dgd_person_reid/external/exp/datasets/3dpes/cam_1/00128_00001.bmp\"\n",
    "x = Image.open(a)\n",
    "x.save(\"/home/nikoong/Algorithm_test/New_dataset/cam_1/a.jpg\")\n",
    "\n",
    "\n"
   ]
  },
  {
   "cell_type": "code",
   "execution_count": 66,
   "metadata": {
    "collapsed": false
   },
   "outputs": [
    {
     "name": "stdout",
     "output_type": "stream",
     "text": [
      "\n"
     ]
    },
    {
     "data": {
      "text/plain": [
       "<function close>"
      ]
     },
     "execution_count": 66,
     "metadata": {},
     "output_type": "execute_result"
    }
   ],
   "source": [
    "a = \"1\"\n",
    "b = \"2\"\n",
    "file1 = open(\"id.txt\", \"w\")\n",
    "file1.write(a+\"\\n\")\n",
    "\n",
    "file1.write(b+\"\\n\")\n",
    "print file1.readline()\n",
    "file1.close"
   ]
  },
  {
   "cell_type": "code",
   "execution_count": null,
   "metadata": {
    "collapsed": true
   },
   "outputs": [],
   "source": []
  }
 ],
 "metadata": {
  "kernelspec": {
   "display_name": "Python 2",
   "language": "python",
   "name": "python2"
  },
  "language_info": {
   "codemirror_mode": {
    "name": "ipython",
    "version": 2
   },
   "file_extension": ".py",
   "mimetype": "text/x-python",
   "name": "python",
   "nbconvert_exporter": "python",
   "pygments_lexer": "ipython2",
   "version": "2.7.9"
  }
 },
 "nbformat": 4,
 "nbformat_minor": 0
}
